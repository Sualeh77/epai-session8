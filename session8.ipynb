{
 "cells": [
  {
   "cell_type": "code",
   "execution_count": 1,
   "metadata": {},
   "outputs": [],
   "source": [
    "from faker import Faker\n",
    "from collections import namedtuple\n",
    "import datetime\n",
    "import session8 as s8"
   ]
  },
  {
   "cell_type": "markdown",
   "metadata": {},
   "source": [
    "# Named Tuples"
   ]
  },
  {
   "cell_type": "code",
   "execution_count": 3,
   "metadata": {},
   "outputs": [
    {
     "name": "stdout",
     "output_type": "stream",
     "text": [
      "Avg Run time: 13.4728539s (1 reps)\n",
      "10000\n"
     ]
    }
   ],
   "source": [
    "profiles = s8.profile_maker(n=10000)\n",
    "\n",
    "print(len(profiles))"
   ]
  },
  {
   "cell_type": "code",
   "execution_count": 3,
   "metadata": {},
   "outputs": [
    {
     "name": "stdout",
     "output_type": "stream",
     "text": [
      "Profile(job='Architect', company='Mcpherson-Mcguire', ssn='862-59-2683', residence='98500 Rosario Rapid\\nWest Deannamouth, MP 83583', current_location=(Decimal('28.940131'), Decimal('109.743340')), blood_group='B-', website=['https://gonzalez.org/'], username='christinahampton', name='Kiara Marquez', sex='F', address='Unit 4865 Box 0106\\nDPO AA 71872', mail='william22@gmail.com', birthdate=datetime.date(1911, 1, 21))\n"
     ]
    }
   ],
   "source": [
    "print(profiles[0])"
   ]
  },
  {
   "cell_type": "code",
   "execution_count": 4,
   "metadata": {},
   "outputs": [
    {
     "name": "stdout",
     "output_type": "stream",
     "text": [
      "Avg Run time: 0.0018723s (1000 reps)\n"
     ]
    },
    {
     "data": {
      "text/plain": [
       "'AB+'"
      ]
     },
     "execution_count": 4,
     "metadata": {},
     "output_type": "execute_result"
    }
   ],
   "source": [
    "s8.largest_blood_type(profiles)"
   ]
  },
  {
   "cell_type": "code",
   "execution_count": 5,
   "metadata": {},
   "outputs": [
    {
     "name": "stdout",
     "output_type": "stream",
     "text": [
      "Avg Run time: 0.0025680s (1000 reps)\n"
     ]
    },
    {
     "data": {
      "text/plain": [
       "MeanLocation(x=Decimal('-0.6295010849'), y=Decimal('-1.0842659031'))"
      ]
     },
     "execution_count": 5,
     "metadata": {},
     "output_type": "execute_result"
    }
   ],
   "source": [
    "s8.mean_current_location(profiles)"
   ]
  },
  {
   "cell_type": "code",
   "execution_count": 6,
   "metadata": {},
   "outputs": [
    {
     "name": "stdout",
     "output_type": "stream",
     "text": [
      "Avg Run time: 0.0150473s (1000 reps)\n"
     ]
    },
    {
     "data": {
      "text/plain": [
       "115"
      ]
     },
     "execution_count": 6,
     "metadata": {},
     "output_type": "execute_result"
    }
   ],
   "source": [
    "s8.oldest_person_age(profiles)"
   ]
  },
  {
   "cell_type": "code",
   "execution_count": 4,
   "metadata": {},
   "outputs": [
    {
     "name": "stdout",
     "output_type": "stream",
     "text": [
      "Avg Run time: 0.0143703s (1000 reps)\n"
     ]
    },
    {
     "data": {
      "text/plain": [
       "57.5226"
      ]
     },
     "execution_count": 4,
     "metadata": {},
     "output_type": "execute_result"
    }
   ],
   "source": [
    "s8.average_age(profiles)"
   ]
  },
  {
   "cell_type": "markdown",
   "metadata": {},
   "source": [
    "# Dictionary"
   ]
  },
  {
   "cell_type": "code",
   "execution_count": 2,
   "metadata": {},
   "outputs": [
    {
     "name": "stdout",
     "output_type": "stream",
     "text": [
      "Avg Run time: 13.4457464s (1 reps)\n"
     ]
    },
    {
     "data": {
      "text/plain": [
       "10000"
      ]
     },
     "execution_count": 2,
     "metadata": {},
     "output_type": "execute_result"
    }
   ],
   "source": [
    "profiles = s8.profile_maker_dict(n=10000)\n",
    "len(profiles)"
   ]
  },
  {
   "cell_type": "code",
   "execution_count": 7,
   "metadata": {},
   "outputs": [
    {
     "name": "stdout",
     "output_type": "stream",
     "text": [
      "Avg Run time: 0.0022876s (1000 reps)\n"
     ]
    },
    {
     "data": {
      "text/plain": [
       "'B-'"
      ]
     },
     "execution_count": 7,
     "metadata": {},
     "output_type": "execute_result"
    }
   ],
   "source": [
    "s8.largest_blood_type_dict(profiles)"
   ]
  },
  {
   "cell_type": "code",
   "execution_count": 8,
   "metadata": {},
   "outputs": [
    {
     "name": "stdout",
     "output_type": "stream",
     "text": [
      "Avg Run time: 0.0035869s (1000 reps)\n"
     ]
    },
    {
     "data": {
      "text/plain": [
       "{'x': Decimal('-0.74702370445'), 'y': Decimal('1.0045707583')}"
      ]
     },
     "execution_count": 8,
     "metadata": {},
     "output_type": "execute_result"
    }
   ],
   "source": [
    "s8.mean_current_location_dict(profiles)"
   ]
  },
  {
   "cell_type": "code",
   "execution_count": 9,
   "metadata": {},
   "outputs": [
    {
     "name": "stdout",
     "output_type": "stream",
     "text": [
      "Avg Run time: 0.0190027s (1000 reps)\n"
     ]
    },
    {
     "data": {
      "text/plain": [
       "115"
      ]
     },
     "execution_count": 9,
     "metadata": {},
     "output_type": "execute_result"
    }
   ],
   "source": [
    "s8.oldest_person_age_dict(profiles)"
   ]
  },
  {
   "cell_type": "code",
   "execution_count": 12,
   "metadata": {},
   "outputs": [
    {
     "name": "stdout",
     "output_type": "stream",
     "text": [
      "Avg Run time: 0.0229269s (1 reps)\n"
     ]
    },
    {
     "data": {
      "text/plain": [
       "57.7973"
      ]
     },
     "execution_count": 12,
     "metadata": {},
     "output_type": "execute_result"
    }
   ],
   "source": [
    "s8.average_age_dict(profiles)"
   ]
  },
  {
   "cell_type": "markdown",
   "metadata": {},
   "source": [
    "# Avg execution Time of functions"
   ]
  },
  {
   "cell_type": "markdown",
   "metadata": {},
   "source": [
    "| **Function Name** | **Exectuion Time with Named Tuple** | **Execution Time with Dictionary** | **Observation** |\n",
    "|---------------|---------------------------------|--------------------------------|-------------|\n",
    "| **profile_maker** | 13.4728539s | 13.4457464s | Both approaches more or less takes same time |\n",
    "| **largest_blood_type** | 0.0018723s | 0.0022876s | For 1000 iteration Named tuple approach is almost 80% faster |\n",
    "| **mean_current_location** | 0.0025680s | 0.0035869s | For 1000 iteration Named tuple approach is almost 70% faster |\n",
    "| **oldest_person_age** | 0.0150473s | 0.0190027s | For 1000 iteration Named tuple approach is almost 20% faster |\n",
    "| **average_age** | 0.0143703s | 0.0229269s | For 1000 iteration Named tuple approach is almost 40% faster |\n",
    "\n",
    "\n",
    "### Hence Named tuple is faster than dictionary when it comes to accessing data from it. With optimized implementation it can be a great way to make function execution faster.\n"
   ]
  },
  {
   "cell_type": "code",
   "execution_count": null,
   "metadata": {},
   "outputs": [],
   "source": []
  }
 ],
 "metadata": {
  "kernelspec": {
   "display_name": "epai",
   "language": "python",
   "name": "python3"
  },
  "language_info": {
   "codemirror_mode": {
    "name": "ipython",
    "version": 3
   },
   "file_extension": ".py",
   "mimetype": "text/x-python",
   "name": "python",
   "nbconvert_exporter": "python",
   "pygments_lexer": "ipython3",
   "version": "3.10.14"
  }
 },
 "nbformat": 4,
 "nbformat_minor": 2
}
